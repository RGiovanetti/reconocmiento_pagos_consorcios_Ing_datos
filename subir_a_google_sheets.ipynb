{
 "cells": [
  {
   "cell_type": "code",
   "execution_count": 1,
   "metadata": {},
   "outputs": [
    {
     "name": "stdout",
     "output_type": "stream",
     "text": [
      "Se han agregado 10 registros al rango B1012:D1021.\n",
      "Se han agregado 10 registros al rango B1022:D1031.\n",
      "Se han agregado 20 registros en total a la hoja de cálculo.\n"
     ]
    }
   ],
   "source": [
    "import gspread\n",
    "from oauth2client.service_account import ServiceAccountCredentials\n",
    "import pandas as pd\n",
    "import time\n",
    "\n",
    "# Define el alcance y carga las credenciales, en este caso autorizamos al ingreso de nuestra cuenta de \n",
    "#Googledrive y de SpreadSheets(excel), utilizando el json obtenido de la API de googledrive\n",
    "scope = ['https://www.googleapis.com/auth/drive', 'https://www.googleapis.com/auth/spreadsheets']\n",
    "credenciales = ServiceAccountCredentials.from_json_keyfile_name('cred.json', scope)\n",
    "\n",
    "# Autorizamos el cliente\n",
    "cliente = gspread.authorize(credenciales)\n",
    "\n",
    "# Abrimos la hoja de cálculo por su nombre\n",
    "sheet = cliente.open(\"Base de datos con ficha de propietarios\")  # Nombre del archivo de la hoja de cálculo\n",
    "\n",
    "# Selecciona la worksheet por su nombre\n",
    "worksheet = sheet.worksheet(\"Registro de Pagos\")  # Nombre de la pestaña (worksheet)\n",
    "\n",
    "# Lee los datos actuales para conocer el número de registros\n",
    "data = worksheet.get_all_values()\n",
    "df = pd.DataFrame(data[1:], columns=data[0])  # Carga los datos actuales en un DataFrame\n",
    "\n",
    "# Cargamos el DataFrame desde el archivo Excel\n",
    "pagos_rec = pd.read_excel('pagos_reconocidos.xlsx')\n",
    "\n",
    "# Seleccionamos las columnas que necesitas agregar\n",
    "nuevo_df = pagos_rec[['propietario', 'Pago', 'Fecha']]\n",
    "\n",
    "# Cambiamos los nombres de las columnas para que coincidan con las de la worksheet\n",
    "nuevo_df.columns = ['Nombre del Propietario', 'Monto Pagado', 'Fecha de Pago']\n",
    "\n",
    "# Conviertimos el DataFrame en una lista de listas para agregar a Google Sheets\n",
    "filas_para_agregar = nuevo_df.values.tolist()\n",
    "\n",
    "# Ajustamos el tamaño del lote, para ir cargando en partes y no sobrepasar la cantidad diaria gratuita que permite el uso de la API \n",
    "tamano_lote = 10\n",
    "\n",
    "# Encuentra la última fila ocupada en la hoja de cálculo\n",
    "ultima_fila = len(data)  # La última fila que ya tiene datos\n",
    "\n",
    "# Agregamos las filas en lotes para evitar exceder la cuota, tambien agregamos un try/except para entender si se estan cargando o hay algun error.\n",
    "total_filas = len(filas_para_agregar)\n",
    "for i in range(0, total_filas, tamano_lote):\n",
    "    lote = filas_para_agregar[i:i + tamano_lote]\n",
    "    try:\n",
    "        # Calcula la fila inicial para el lote actual\n",
    "        fila_inicial = ultima_fila + 1\n",
    "        fila_final = fila_inicial + len(lote) - 1\n",
    "        \n",
    "        # Definimos el rango de celdas para agregar las nuevas filas en las columnas B, C y D\n",
    "        rango = f\"B{fila_inicial}:D{fila_final}\"\n",
    "        \n",
    "        # Actualiza las celdas en el rango definido\n",
    "        worksheet.update(range_name=rango, values=lote)\n",
    "        \n",
    "        print(f\"Se han agregado {len(lote)} registros al rango {rango}.\")\n",
    "        \n",
    "        # Actualiza la última fila ocupada\n",
    "        ultima_fila += len(lote)  \n",
    "    except Exception as e:\n",
    "        print(f\"Error al agregar registros: {e}\")\n",
    "    \n",
    "    time.sleep(1)  # Espera un segundo entre cada lote para no exceder el límite de solicitudes por minuto\n",
    "\n",
    "print(f\"Se han agregado {total_filas} registros en total a la hoja de cálculo.\")\n"
   ]
  }
 ],
 "metadata": {
  "kernelspec": {
   "display_name": "Python 3",
   "language": "python",
   "name": "python3"
  },
  "language_info": {
   "codemirror_mode": {
    "name": "ipython",
    "version": 3
   },
   "file_extension": ".py",
   "mimetype": "text/x-python",
   "name": "python",
   "nbconvert_exporter": "python",
   "pygments_lexer": "ipython3",
   "version": "3.12.4"
  }
 },
 "nbformat": 4,
 "nbformat_minor": 2
}
